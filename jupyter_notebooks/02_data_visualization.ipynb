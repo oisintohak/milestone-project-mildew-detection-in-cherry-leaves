{
 "cells": [
  {
   "cell_type": "markdown",
   "metadata": {
    "id": "0aStgWSO0E0E"
   },
   "source": [
    "# **DATA VISUALIZATION**"
   ]
  },
  {
   "cell_type": "markdown",
   "metadata": {
    "id": "1eLEkw5O0ECa"
   },
   "source": [
    "## Objectives\n",
    "\n",
    "* Fulfill Business Requirement 1 - The client is interested in conducting a study to visually differentiate a healthy cherry leaf from one with powdery mildew.\n",
    "\n",
    "## Inputs\n",
    "\n",
    "* inputs/cherry_leaf_dataset/cherry-leaves/test\n",
    "* inputs/cherry_leaf_dataset/cherry-leaves/train\n",
    "* inputs/cherry_leaf_dataset/cherry-leaves/validation\n",
    "\n",
    "## Outputs\n",
    "\n",
    "* Image shape embeddings pickle file.\n",
    "* Mean and variability of images per label plot.\n",
    "* Plot to distinguish the contrast between healthy and mildew leaves.\n",
    "* Generate code that answers business requirement 1 and can be used to build an image montage on the Streamlit dashboard.\n",
    "\n"
   ]
  },
  {
   "cell_type": "markdown",
   "metadata": {
    "id": "9uWZXH9LwoQg"
   },
   "source": [
    "---"
   ]
  },
  {
   "cell_type": "markdown",
   "metadata": {},
   "source": []
  },
  {
   "cell_type": "markdown",
   "metadata": {
    "id": "-mavJ8DibrcQ"
   },
   "source": [
    "# Section 1"
   ]
  },
  {
   "cell_type": "code",
   "execution_count": 1,
   "metadata": {},
   "outputs": [
    {
     "name": "stdout",
     "output_type": "stream",
     "text": [
      "current_dir: /workspace/milestone-project-mildew-detection-in-cherry-leaves\n"
     ]
    }
   ],
   "source": [
    "import os\n",
    "os.chdir(os.path.dirname(os.getcwd()))\n",
    "print('current_dir:', os.getcwd())"
   ]
  },
  {
   "cell_type": "code",
   "execution_count": 2,
   "metadata": {},
   "outputs": [
    {
     "name": "stdout",
     "output_type": "stream",
     "text": [
      "Requirement already satisfied: absl-py==0.15.0 in /workspace/.pip-modules/lib/python3.8/site-packages (from -r requirements.txt (line 1)) (0.15.0)\n",
      "Requirement already satisfied: altair==4.2.2 in /workspace/.pip-modules/lib/python3.8/site-packages (from -r requirements.txt (line 2)) (4.2.2)\n",
      "Requirement already satisfied: astor==0.8.1 in /workspace/.pip-modules/lib/python3.8/site-packages (from -r requirements.txt (line 3)) (0.8.1)\n",
      "Requirement already satisfied: astunparse==1.6.3 in /workspace/.pip-modules/lib/python3.8/site-packages (from -r requirements.txt (line 4)) (1.6.3)\n",
      "Requirement already satisfied: backports.zoneinfo==0.2.1 in /workspace/.pip-modules/lib/python3.8/site-packages (from -r requirements.txt (line 5)) (0.2.1)\n",
      "Requirement already satisfied: base58==2.1.1 in /workspace/.pip-modules/lib/python3.8/site-packages (from -r requirements.txt (line 6)) (2.1.1)\n",
      "Requirement already satisfied: blinker==1.8.2 in /workspace/.pip-modules/lib/python3.8/site-packages (from -r requirements.txt (line 7)) (1.8.2)\n",
      "Requirement already satisfied: cachetools==5.5.0 in /workspace/.pip-modules/lib/python3.8/site-packages (from -r requirements.txt (line 8)) (5.5.0)\n",
      "Requirement already satisfied: clang==5.0 in /workspace/.pip-modules/lib/python3.8/site-packages (from -r requirements.txt (line 9)) (5.0)\n",
      "Requirement already satisfied: click==7.1.2 in /workspace/.pip-modules/lib/python3.8/site-packages (from -r requirements.txt (line 10)) (7.1.2)\n",
      "Requirement already satisfied: cycler==0.12.1 in /workspace/.pip-modules/lib/python3.8/site-packages (from -r requirements.txt (line 11)) (0.12.1)\n",
      "Requirement already satisfied: entrypoints==0.4 in /workspace/.pip-modules/lib/python3.8/site-packages (from -r requirements.txt (line 12)) (0.4)\n",
      "Requirement already satisfied: flatbuffers==1.12 in /workspace/.pip-modules/lib/python3.8/site-packages (from -r requirements.txt (line 13)) (1.12)\n",
      "Requirement already satisfied: gast==0.4.0 in /workspace/.pip-modules/lib/python3.8/site-packages (from -r requirements.txt (line 14)) (0.4.0)\n",
      "Requirement already satisfied: gitdb==4.0.11 in /workspace/.pip-modules/lib/python3.8/site-packages (from -r requirements.txt (line 15)) (4.0.11)\n",
      "Requirement already satisfied: GitPython==3.1.43 in /workspace/.pip-modules/lib/python3.8/site-packages (from -r requirements.txt (line 16)) (3.1.43)\n",
      "Requirement already satisfied: google-auth==2.36.0 in /workspace/.pip-modules/lib/python3.8/site-packages (from -r requirements.txt (line 17)) (2.36.0)\n",
      "Requirement already satisfied: google-auth-oauthlib==1.0.0 in /workspace/.pip-modules/lib/python3.8/site-packages (from -r requirements.txt (line 18)) (1.0.0)\n",
      "Requirement already satisfied: google-pasta==0.2.0 in /workspace/.pip-modules/lib/python3.8/site-packages (from -r requirements.txt (line 19)) (0.2.0)\n",
      "Requirement already satisfied: grpcio==1.68.1 in /workspace/.pip-modules/lib/python3.8/site-packages (from -r requirements.txt (line 20)) (1.68.1)\n",
      "Requirement already satisfied: h5py==3.1.0 in /workspace/.pip-modules/lib/python3.8/site-packages (from -r requirements.txt (line 21)) (3.1.0)\n",
      "Requirement already satisfied: joblib==1.4.2 in /workspace/.pip-modules/lib/python3.8/site-packages (from -r requirements.txt (line 22)) (1.4.2)\n",
      "Requirement already satisfied: kaggle==1.5.12 in /workspace/.pip-modules/lib/python3.8/site-packages (from -r requirements.txt (line 23)) (1.5.12)\n",
      "Requirement already satisfied: keras==2.6.0 in /workspace/.pip-modules/lib/python3.8/site-packages (from -r requirements.txt (line 24)) (2.6.0)\n",
      "Requirement already satisfied: Keras-Preprocessing==1.1.2 in /workspace/.pip-modules/lib/python3.8/site-packages (from -r requirements.txt (line 25)) (1.1.2)\n",
      "Requirement already satisfied: kiwisolver==1.4.7 in /workspace/.pip-modules/lib/python3.8/site-packages (from -r requirements.txt (line 26)) (1.4.7)\n",
      "Requirement already satisfied: Markdown==3.7 in /workspace/.pip-modules/lib/python3.8/site-packages (from -r requirements.txt (line 27)) (3.7)\n",
      "Requirement already satisfied: matplotlib==3.3.1 in /workspace/.pip-modules/lib/python3.8/site-packages (from -r requirements.txt (line 28)) (3.3.1)\n",
      "Requirement already satisfied: numpy==1.19.2 in /workspace/.pip-modules/lib/python3.8/site-packages (from -r requirements.txt (line 29)) (1.19.2)\n",
      "Requirement already satisfied: oauthlib==3.2.2 in /workspace/.pip-modules/lib/python3.8/site-packages (from -r requirements.txt (line 30)) (3.2.2)\n",
      "Requirement already satisfied: opt-einsum==3.3.0 in /workspace/.pip-modules/lib/python3.8/site-packages (from -r requirements.txt (line 31)) (3.3.0)\n",
      "Requirement already satisfied: pandas==1.1.2 in /workspace/.pip-modules/lib/python3.8/site-packages (from -r requirements.txt (line 32)) (1.1.2)\n",
      "Requirement already satisfied: pillow==10.4.0 in /workspace/.pip-modules/lib/python3.8/site-packages (from -r requirements.txt (line 33)) (10.4.0)\n",
      "Requirement already satisfied: plotly==4.12.0 in /workspace/.pip-modules/lib/python3.8/site-packages (from -r requirements.txt (line 34)) (4.12.0)\n",
      "Requirement already satisfied: protobuf==3.20.0 in /workspace/.pip-modules/lib/python3.8/site-packages (from -r requirements.txt (line 35)) (3.20.0)\n",
      "Requirement already satisfied: pyarrow==17.0.0 in /workspace/.pip-modules/lib/python3.8/site-packages (from -r requirements.txt (line 36)) (17.0.0)\n",
      "Requirement already satisfied: pyasn1==0.6.1 in /workspace/.pip-modules/lib/python3.8/site-packages (from -r requirements.txt (line 37)) (0.6.1)\n",
      "Requirement already satisfied: pyasn1_modules==0.4.1 in /workspace/.pip-modules/lib/python3.8/site-packages (from -r requirements.txt (line 38)) (0.4.1)\n",
      "Requirement already satisfied: pydeck==0.9.1 in /workspace/.pip-modules/lib/python3.8/site-packages (from -r requirements.txt (line 39)) (0.9.1)\n",
      "Requirement already satisfied: pyparsing==3.1.4 in /workspace/.pip-modules/lib/python3.8/site-packages (from -r requirements.txt (line 40)) (3.1.4)\n",
      "Requirement already satisfied: python-slugify==8.0.4 in /workspace/.pip-modules/lib/python3.8/site-packages (from -r requirements.txt (line 41)) (8.0.4)\n",
      "Requirement already satisfied: requests-oauthlib==2.0.0 in /workspace/.pip-modules/lib/python3.8/site-packages (from -r requirements.txt (line 42)) (2.0.0)\n",
      "Requirement already satisfied: retrying==1.3.4 in /workspace/.pip-modules/lib/python3.8/site-packages (from -r requirements.txt (line 43)) (1.3.4)\n",
      "Requirement already satisfied: rsa==4.9 in /workspace/.pip-modules/lib/python3.8/site-packages (from -r requirements.txt (line 44)) (4.9)\n",
      "Requirement already satisfied: scikit-learn==0.24.2 in /workspace/.pip-modules/lib/python3.8/site-packages (from -r requirements.txt (line 45)) (0.24.2)\n",
      "Requirement already satisfied: scipy==1.9.3 in /workspace/.pip-modules/lib/python3.8/site-packages (from -r requirements.txt (line 46)) (1.9.3)\n",
      "Requirement already satisfied: seaborn==0.11.0 in /workspace/.pip-modules/lib/python3.8/site-packages (from -r requirements.txt (line 47)) (0.11.0)\n",
      "Requirement already satisfied: six==1.15.0 in /workspace/.pip-modules/lib/python3.8/site-packages (from -r requirements.txt (line 48)) (1.15.0)\n",
      "Requirement already satisfied: smmap==5.0.1 in /workspace/.pip-modules/lib/python3.8/site-packages (from -r requirements.txt (line 49)) (5.0.1)\n",
      "Requirement already satisfied: streamlit==0.85.0 in /workspace/.pip-modules/lib/python3.8/site-packages (from -r requirements.txt (line 50)) (0.85.0)\n",
      "Requirement already satisfied: tensorboard==2.14.0 in /workspace/.pip-modules/lib/python3.8/site-packages (from -r requirements.txt (line 51)) (2.14.0)\n",
      "Requirement already satisfied: tensorboard-data-server==0.7.2 in /workspace/.pip-modules/lib/python3.8/site-packages (from -r requirements.txt (line 52)) (0.7.2)\n",
      "Requirement already satisfied: tensorflow-cpu==2.6.0 in /workspace/.pip-modules/lib/python3.8/site-packages (from -r requirements.txt (line 53)) (2.6.0)\n",
      "Requirement already satisfied: tensorflow-estimator==2.15.0 in /workspace/.pip-modules/lib/python3.8/site-packages (from -r requirements.txt (line 54)) (2.15.0)\n",
      "Requirement already satisfied: termcolor==1.1.0 in /workspace/.pip-modules/lib/python3.8/site-packages (from -r requirements.txt (line 55)) (1.1.0)\n",
      "Requirement already satisfied: text-unidecode==1.3 in /workspace/.pip-modules/lib/python3.8/site-packages (from -r requirements.txt (line 56)) (1.3)\n",
      "Requirement already satisfied: threadpoolctl==3.5.0 in /workspace/.pip-modules/lib/python3.8/site-packages (from -r requirements.txt (line 57)) (3.5.0)\n",
      "Requirement already satisfied: toml==0.10.2 in /workspace/.pip-modules/lib/python3.8/site-packages (from -r requirements.txt (line 58)) (0.10.2)\n",
      "Requirement already satisfied: toolz==1.0.0 in /workspace/.pip-modules/lib/python3.8/site-packages (from -r requirements.txt (line 59)) (1.0.0)\n",
      "Requirement already satisfied: tqdm==4.67.1 in /workspace/.pip-modules/lib/python3.8/site-packages (from -r requirements.txt (line 60)) (4.67.1)\n",
      "Requirement already satisfied: typing-extensions==3.7.4.3 in /workspace/.pip-modules/lib/python3.8/site-packages (from -r requirements.txt (line 61)) (3.7.4.3)\n",
      "Requirement already satisfied: tzlocal==5.2 in /workspace/.pip-modules/lib/python3.8/site-packages (from -r requirements.txt (line 62)) (5.2)\n",
      "Requirement already satisfied: validators==0.34.0 in /workspace/.pip-modules/lib/python3.8/site-packages (from -r requirements.txt (line 63)) (0.34.0)\n",
      "Requirement already satisfied: watchdog==4.0.2 in /workspace/.pip-modules/lib/python3.8/site-packages (from -r requirements.txt (line 64)) (4.0.2)\n",
      "Requirement already satisfied: Werkzeug==3.0.6 in /workspace/.pip-modules/lib/python3.8/site-packages (from -r requirements.txt (line 65)) (3.0.6)\n",
      "Requirement already satisfied: wrapt==1.12.1 in /workspace/.pip-modules/lib/python3.8/site-packages (from -r requirements.txt (line 66)) (1.12.1)\n",
      "Requirement already satisfied: jinja2 in /home/gitpod/.pyenv/versions/3.8.18/lib/python3.8/site-packages (from altair==4.2.2->-r requirements.txt (line 2)) (3.1.4)\n",
      "Requirement already satisfied: jsonschema>=3.0 in /home/gitpod/.pyenv/versions/3.8.18/lib/python3.8/site-packages (from altair==4.2.2->-r requirements.txt (line 2)) (4.23.0)\n",
      "Requirement already satisfied: wheel<1.0,>=0.23.0 in /home/gitpod/.pyenv/versions/3.8.18/lib/python3.8/site-packages (from astunparse==1.6.3->-r requirements.txt (line 4)) (0.45.1)\n",
      "Requirement already satisfied: certifi in /home/gitpod/.pyenv/versions/3.8.18/lib/python3.8/site-packages (from kaggle==1.5.12->-r requirements.txt (line 23)) (2024.8.30)\n",
      "Requirement already satisfied: python-dateutil in /home/gitpod/.pyenv/versions/3.8.18/lib/python3.8/site-packages (from kaggle==1.5.12->-r requirements.txt (line 23)) (2.9.0.post0)\n",
      "Requirement already satisfied: requests in /home/gitpod/.pyenv/versions/3.8.18/lib/python3.8/site-packages (from kaggle==1.5.12->-r requirements.txt (line 23)) (2.32.3)\n",
      "Requirement already satisfied: urllib3 in /home/gitpod/.pyenv/versions/3.8.18/lib/python3.8/site-packages (from kaggle==1.5.12->-r requirements.txt (line 23)) (2.2.3)\n",
      "Requirement already satisfied: importlib-metadata>=4.4 in /home/gitpod/.pyenv/versions/3.8.18/lib/python3.8/site-packages (from Markdown==3.7->-r requirements.txt (line 27)) (8.5.0)\n",
      "Requirement already satisfied: pytz>=2017.2 in /home/gitpod/.pyenv/versions/3.8.18/lib/python3.8/site-packages (from pandas==1.1.2->-r requirements.txt (line 32)) (2024.2)\n",
      "Requirement already satisfied: attrs in /home/gitpod/.pyenv/versions/3.8.18/lib/python3.8/site-packages (from streamlit==0.85.0->-r requirements.txt (line 50)) (24.2.0)\n",
      "Requirement already satisfied: packaging in /home/gitpod/.pyenv/versions/3.8.18/lib/python3.8/site-packages (from streamlit==0.85.0->-r requirements.txt (line 50)) (24.2)\n",
      "Requirement already satisfied: tornado>=5.0 in /home/gitpod/.pyenv/versions/3.8.18/lib/python3.8/site-packages (from streamlit==0.85.0->-r requirements.txt (line 50)) (6.4.2)\n",
      "Requirement already satisfied: setuptools>=41.0.0 in /home/gitpod/.pyenv/versions/3.8.18/lib/python3.8/site-packages (from tensorboard==2.14.0->-r requirements.txt (line 51)) (75.3.0)\n",
      "Requirement already satisfied: MarkupSafe>=2.1.1 in /home/gitpod/.pyenv/versions/3.8.18/lib/python3.8/site-packages (from Werkzeug==3.0.6->-r requirements.txt (line 65)) (2.1.5)\n",
      "Requirement already satisfied: zipp>=3.20 in /home/gitpod/.pyenv/versions/3.8.18/lib/python3.8/site-packages (from importlib-metadata>=4.4->Markdown==3.7->-r requirements.txt (line 27)) (3.20.2)\n",
      "Requirement already satisfied: importlib-resources>=1.4.0 in /home/gitpod/.pyenv/versions/3.8.18/lib/python3.8/site-packages (from jsonschema>=3.0->altair==4.2.2->-r requirements.txt (line 2)) (6.4.5)\n",
      "Requirement already satisfied: jsonschema-specifications>=2023.03.6 in /home/gitpod/.pyenv/versions/3.8.18/lib/python3.8/site-packages (from jsonschema>=3.0->altair==4.2.2->-r requirements.txt (line 2)) (2023.12.1)\n",
      "Requirement already satisfied: pkgutil-resolve-name>=1.3.10 in /home/gitpod/.pyenv/versions/3.8.18/lib/python3.8/site-packages (from jsonschema>=3.0->altair==4.2.2->-r requirements.txt (line 2)) (1.3.10)\n",
      "Requirement already satisfied: referencing>=0.28.4 in /home/gitpod/.pyenv/versions/3.8.18/lib/python3.8/site-packages (from jsonschema>=3.0->altair==4.2.2->-r requirements.txt (line 2)) (0.35.1)\n",
      "Requirement already satisfied: rpds-py>=0.7.1 in /home/gitpod/.pyenv/versions/3.8.18/lib/python3.8/site-packages (from jsonschema>=3.0->altair==4.2.2->-r requirements.txt (line 2)) (0.20.1)\n",
      "Requirement already satisfied: charset-normalizer<4,>=2 in /home/gitpod/.pyenv/versions/3.8.18/lib/python3.8/site-packages (from requests->kaggle==1.5.12->-r requirements.txt (line 23)) (3.4.0)\n",
      "Requirement already satisfied: idna<4,>=2.5 in /home/gitpod/.pyenv/versions/3.8.18/lib/python3.8/site-packages (from requests->kaggle==1.5.12->-r requirements.txt (line 23)) (3.10)\n",
      "Note: you may need to restart the kernel to use updated packages.\n"
     ]
    }
   ],
   "source": [
    "pip install -r requirements.txt"
   ]
  },
  {
   "cell_type": "markdown",
   "metadata": {},
   "source": [
    "!!N.B - The notebook 00_project_setup.ipynb should be executed before this notebook"
   ]
  },
  {
   "cell_type": "code",
   "execution_count": null,
   "metadata": {},
   "outputs": [],
   "source": [
    "import os\n",
    "import pandas as pd\n",
    "import numpy as np\n",
    "import matplotlib.pyplot as plt\n",
    "import seaborn as sns\n",
    "import joblib\n",
    "sns.set_style(\"white\")\n",
    "from matplotlib.image import imread\n"
   ]
  },
  {
   "cell_type": "markdown",
   "metadata": {
    "id": "ZY3l0-AxO93d"
   },
   "source": [
    "---"
   ]
  },
  {
   "cell_type": "markdown",
   "metadata": {
    "id": "uFQo3ycuO-v6"
   },
   "source": [
    "# Set input/output directories and labels"
   ]
  },
  {
   "cell_type": "markdown",
   "metadata": {},
   "source": [
    "Section 2 content"
   ]
  },
  {
   "cell_type": "code",
   "execution_count": 7,
   "metadata": {},
   "outputs": [],
   "source": [
    "my_data_dir = 'inputs/cherry_leaf_dataset/cherry-leaves/'\n",
    "train_path = my_data_dir + '/train'\n",
    "val_path = my_data_dir + '/validation'\n",
    "test_path = my_data_dir + '/test'"
   ]
  },
  {
   "cell_type": "code",
   "execution_count": null,
   "metadata": {},
   "outputs": [
    {
     "name": "stdout",
     "output_type": "stream",
     "text": [
      "Old version is already available create a new version.\n"
     ]
    }
   ],
   "source": [
    "version = 'v1'\n",
    "file_path = f'outputs/{version}'\n",
    "work_dir = os.getcwd()\n",
    "if 'outputs' in os.listdir(work_dir) and version in os.listdir(work_dir + '/outputs'):\n",
    "    print('Old version is already available create a new version.')\n",
    "    pass\n",
    "else:\n",
    "    os.makedirs(name=file_path)"
   ]
  },
  {
   "cell_type": "code",
   "execution_count": 9,
   "metadata": {},
   "outputs": [
    {
     "name": "stdout",
     "output_type": "stream",
     "text": [
      "Label for the images are ['healthy', 'powdery_mildew']\n"
     ]
    }
   ],
   "source": [
    "# Set the labels\n",
    "labels = os.listdir(train_path)\n",
    "print('Label for the images are', labels)"
   ]
  },
  {
   "cell_type": "code",
   "execution_count": null,
   "metadata": {},
   "outputs": [],
   "source": []
  },
  {
   "cell_type": "markdown",
   "metadata": {},
   "source": [
    "---"
   ]
  },
  {
   "cell_type": "markdown",
   "metadata": {},
   "source": [
    "NOTE"
   ]
  },
  {
   "cell_type": "markdown",
   "metadata": {},
   "source": [
    "* You may add as many sections as you want, as long as it supports your project workflow.\n",
    "* All notebook's cells should be run top-down (you can't create a dynamic wherein a given point you need to go back to a previous cell to execute some task, like go back to a previous cell and refresh a variable content)"
   ]
  },
  {
   "cell_type": "markdown",
   "metadata": {},
   "source": [
    "---"
   ]
  },
  {
   "cell_type": "markdown",
   "metadata": {
    "id": "ltNetd085qHf"
   },
   "source": [
    "# Push files to Repo"
   ]
  },
  {
   "cell_type": "markdown",
   "metadata": {},
   "source": [
    "* If you don't need to push files to Repo, you may replace this section with \"Conclusions and Next Steps\" and state your conclusions and next steps."
   ]
  },
  {
   "cell_type": "code",
   "execution_count": null,
   "metadata": {
    "id": "aKlnIozA4eQO",
    "outputId": "fd09bc1f-adb1-4511-f6ce-492a6af570c0"
   },
   "outputs": [
    {
     "ename": "IndentationError",
     "evalue": "expected an indented block (1114530593.py, line 5)",
     "output_type": "error",
     "traceback": [
      "\u001b[0;36m  Cell \u001b[0;32mIn[4], line 5\u001b[0;36m\u001b[0m\n\u001b[0;31m    except Exception as e:\u001b[0m\n\u001b[0m    ^\u001b[0m\n\u001b[0;31mIndentationError\u001b[0m\u001b[0;31m:\u001b[0m expected an indented block\n"
     ]
    }
   ],
   "source": [
    "import os\n",
    "try:\n",
    "    # create here your folder\n",
    "    # os.makedirs(name='')\n",
    "except Exception as e:\n",
    "    print(e)\n"
   ]
  }
 ],
 "metadata": {
  "accelerator": "GPU",
  "colab": {
   "name": "Data Practitioner Jupyter Notebook.ipynb",
   "provenance": [],
   "toc_visible": true
  },
  "kernelspec": {
   "display_name": "Python 3",
   "language": "python",
   "name": "python3"
  },
  "language_info": {
   "codemirror_mode": {
    "name": "ipython",
    "version": 3
   },
   "file_extension": ".py",
   "mimetype": "text/x-python",
   "name": "python",
   "nbconvert_exporter": "python",
   "pygments_lexer": "ipython3",
   "version": "3.8.18"
  },
  "orig_nbformat": 2
 },
 "nbformat": 4,
 "nbformat_minor": 2
}
